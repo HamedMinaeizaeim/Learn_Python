{
 "cells": [
  {
   "cell_type": "markdown",
   "metadata": {},
   "source": [
    "# [Strings](https://docs.python.org/3/library/stdtypes.html#text-sequence-type-str)"
   ]
  },
  {
   "cell_type": "code",
   "execution_count": null,
   "metadata": {},
   "outputs": [],
   "source": [
    "my_string = 'Python is my favorite programming language!'\n",
    "print(my_string)\n",
    "print(type(my_string))"
   ]
  },
  {
   "cell_type": "code",
   "execution_count": null,
   "metadata": {},
   "outputs": [],
   "source": [
    "print(len(my_string))"
   ]
  },
  {
   "cell_type": "markdown",
   "metadata": {},
   "source": [
    "### Respecting [PEP8](https://www.python.org/dev/peps/pep-0008/#maximum-line-length) with long strings"
   ]
  },
  {
   "cell_type": "code",
   "execution_count": null,
   "metadata": {},
   "outputs": [],
   "source": [
    "long_story = ('Lorem ipsum dolor sit amet, consectetur adipiscing elit.' \n",
    "              'Pellentesque eget tincidunt felis. Ut ac vestibulum est.' \n",
    "              'In sed ipsum sit amet sapien scelerisque bibendum. Sed ' \n",
    "              'sagittis purus eu diam fermentum pellentesque.')\n",
    "long_story"
   ]
  },
  {
   "cell_type": "markdown",
   "metadata": {},
   "source": [
    "## `str.replace()`"
   ]
  },
  {
   "cell_type": "code",
   "execution_count": null,
   "metadata": {},
   "outputs": [],
   "source": [
    "help(str.replace)"
   ]
  },
  {
   "cell_type": "code",
   "execution_count": null,
   "metadata": {},
   "outputs": [],
   "source": [
    "my_modified_string = my_string.replace('is', 'will be')\n",
    "print(my_modified_string)"
   ]
  },
  {
   "cell_type": "markdown",
   "metadata": {},
   "source": [
    "This will not modify `my_string` because replace is not done in-place."
   ]
  },
  {
   "cell_type": "code",
   "execution_count": null,
   "metadata": {},
   "outputs": [],
   "source": [
    "my_string.replace('a', '?')\n",
    "print(my_string)"
   ]
  },
  {
   "cell_type": "code",
   "execution_count": null,
   "metadata": {},
   "outputs": [],
   "source": [
    "## `str.format()`"
   ]
  },
  {
   "cell_type": "code",
   "execution_count": null,
   "metadata": {},
   "outputs": [],
   "source": [
    "secret = '{} is cool'.format('Python')\n",
    "print(secret)"
   ]
  },
  {
   "cell_type": "code",
   "execution_count": null,
   "metadata": {},
   "outputs": [],
   "source": [
    "print('My name is {} {}, you can call me {}.'.format('John', 'Doe', 'John'))\n",
    "# is the same as:\n",
    "print('My name is {first} {family}, you can call me {first}.'.format(first='John', family='Doe'))"
   ]
  },
  {
   "cell_type": "markdown",
   "metadata": {},
   "source": [
    "## `str.join()`"
   ]
  },
  {
   "cell_type": "code",
   "execution_count": null,
   "metadata": {},
   "outputs": [],
   "source": [
    "pandas = 'pandas'\n",
    "numpy = 'numpy'\n",
    "requests = 'requests'\n",
    "cool_python_libs = ', '.join([pandas, numpy, requests])"
   ]
  },
  {
   "cell_type": "code",
   "execution_count": null,
   "metadata": {},
   "outputs": [],
   "source": [
    "print('Some cool python libraries: {}'.format(cool_python_libs))"
   ]
  },
  {
   "cell_type": "markdown",
   "metadata": {},
   "source": [
    "Alternatives but not recommended "
   ]
  },
  {
   "cell_type": "code",
   "execution_count": null,
   "metadata": {},
   "outputs": [],
   "source": []
  },
  {
   "cell_type": "code",
   "execution_count": null,
   "metadata": {},
   "outputs": [],
   "source": [
    "cool_python_libs = pandas + ', ' + numpy + ', ' + requests\n",
    "print('Some cool python libraries: {}'.format(cool_python_libs))\n",
    "\n",
    "cool_python_libs = pandas\n",
    "cool_python_libs += ', ' + numpy\n",
    "cool_python_libs += ', ' + requests\n",
    "print('Some cool python libraries: {}'.format(cool_python_libs))"
   ]
  },
  {
   "cell_type": "markdown",
   "metadata": {},
   "source": [
    "## `str.strip()`\n",
    "\n",
    "Remove spaces at the beginning and at the end of the string:"
   ]
  },
  {
   "cell_type": "code",
   "execution_count": null,
   "metadata": {},
   "outputs": [],
   "source": [
    "ugly_formatted = ' \\n \\t Some story to tell '\n",
    "stripped = ugly_formatted.strip()\n",
    "\n",
    "print('ugly: {}'.format(ugly_formatted))\n",
    "print('stripped: {}'.format(ugly_formatted.strip()))"
   ]
  },
  {
   "cell_type": "code",
   "execution_count": null,
   "metadata": {},
   "outputs": [],
   "source": [
    "## `str.split()`"
   ]
  },
  {
   "cell_type": "code",
   "execution_count": 1,
   "metadata": {},
   "outputs": [
    {
     "name": "stdout",
     "output_type": "stream",
     "text": [
      "['three', 'different', 'words']\n"
     ]
    }
   ],
   "source": [
    "sentence = 'three different words'\n",
    "words = sentence.split()\n",
    "print(words)"
   ]
  },
  {
   "cell_type": "code",
   "execution_count": 2,
   "metadata": {},
   "outputs": [
    {
     "data": {
      "text/plain": [
       "list"
      ]
     },
     "execution_count": 2,
     "metadata": {},
     "output_type": "execute_result"
    }
   ],
   "source": [
    "type(words)"
   ]
  },
  {
   "cell_type": "markdown",
   "metadata": {},
   "source": [
    "Play with the sliced number to understand how you could subtract part of string "
   ]
  },
  {
   "cell_type": "code",
   "execution_count": 5,
   "metadata": {},
   "outputs": [
    {
     "name": "stdout",
     "output_type": "stream",
     "text": [
      "three diff\n",
      "ee different words\n",
      "rds\n"
     ]
    }
   ],
   "source": [
    "print(sentence[0:10])\n",
    "print(sentence[3:])\n",
    "print(sentence[-3:])"
   ]
  },
  {
   "cell_type": "code",
   "execution_count": null,
   "metadata": {},
   "outputs": [],
   "source": [
    "secret_binary_data = '01001,101101,11100000'\n",
    "binaries = secret_binary_data.split(',')\n",
    "print(binaries)"
   ]
  },
  {
   "cell_type": "markdown",
   "metadata": {},
   "source": [
    "## Calling multiple methods in a row"
   ]
  },
  {
   "cell_type": "code",
   "execution_count": null,
   "metadata": {},
   "outputs": [],
   "source": [
    "ugly_mixed_case = '   ThIS LooKs BAd '\n",
    "pretty = ugly_mixed_case.strip().lower().replace('bad', 'good')\n",
    "print(pretty)"
   ]
  },
  {
   "cell_type": "markdown",
   "metadata": {},
   "source": [
    "Note that execution order is from left to right. Thus, this won't work:"
   ]
  },
  {
   "cell_type": "code",
   "execution_count": null,
   "metadata": {},
   "outputs": [],
   "source": [
    "pretty = ugly_mixed_case.replace('bad', 'good').strip().lower()\n",
    "print(pretty)"
   ]
  },
  {
   "cell_type": "code",
   "execution_count": null,
   "metadata": {},
   "outputs": [],
   "source": [
    "# String find() Method"
   ]
  },
  {
   "cell_type": "code",
   "execution_count": null,
   "metadata": {},
   "outputs": [],
   "source": [
    "txt = \"Hello, welcome to my world.\"\n",
    "\n",
    "x = txt.find(\"welcome\")\n",
    "\n",
    "print(x)"
   ]
  },
  {
   "cell_type": "markdown",
   "metadata": {},
   "source": [
    "string.find(value, start, end)\n",
    "\n",
    "Parameter\tDescription\n",
    "value\tRequired. The value to search for\n",
    "start\tOptional. Where to start the search. Default is 0\n",
    "end\tOptional. Where to end the search. Default is to the end of the string"
   ]
  },
  {
   "cell_type": "code",
   "execution_count": null,
   "metadata": {},
   "outputs": [],
   "source": [
    "txt = \"Hello, welcome to my world.\"\n",
    "\n",
    "x = txt.find(\"e\", 5, 10)\n",
    "\n",
    "print(x)"
   ]
  },
  {
   "cell_type": "markdown",
   "metadata": {},
   "source": [
    "# For learn more about other method, please check out https://www.w3schools.com/python/python_ref_string.asp"
   ]
  }
 ],
 "metadata": {
  "interpreter": {
   "hash": "23c792a442a90648fdf0b85a9c8d60a61e2ae12c35d0fa380505e315076d6dd9"
  },
  "kernelspec": {
   "display_name": "Python 3.9.7 ('base')",
   "language": "python",
   "name": "python3"
  },
  "language_info": {
   "codemirror_mode": {
    "name": "ipython",
    "version": 3
   },
   "file_extension": ".py",
   "mimetype": "text/x-python",
   "name": "python",
   "nbconvert_exporter": "python",
   "pygments_lexer": "ipython3",
   "version": "3.9.7"
  },
  "orig_nbformat": 4
 },
 "nbformat": 4,
 "nbformat_minor": 2
}
